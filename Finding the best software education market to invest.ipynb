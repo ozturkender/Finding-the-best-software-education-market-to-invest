{
 "cells": [
  {
   "cell_type": "markdown",
   "metadata": {},
   "source": [
    "# Finding the best software education market to invest\n",
    "\n",
    "We are asked to examine a new coders survey to decide the best area to create a new content, together with the country of entry. We are going to use 2017 FCC New Coders Survey. There is no glossary for the data, though we are going to use some of the self-explanatory columns only. In the end, we are going to make some suggestions for the employer to create an education content for a specific area at a specific country or countries."
   ]
  },
  {
   "cell_type": "code",
   "execution_count": 1,
   "metadata": {},
   "outputs": [],
   "source": [
    "import numpy as np\n",
    "import pandas as pd\n",
    "import matplotlib.pyplot as plt\n",
    "import seaborn as sns\n",
    "%matplotlib inline"
   ]
  },
  {
   "cell_type": "code",
   "execution_count": 2,
   "metadata": {},
   "outputs": [],
   "source": [
    "df = pd.read_csv(\"2017-fCC-New-Coders-Survey-Data.csv\", low_memory=False)"
   ]
  },
  {
   "cell_type": "code",
   "execution_count": 3,
   "metadata": {},
   "outputs": [
    {
     "name": "stdout",
     "output_type": "stream",
     "text": [
      "<class 'pandas.core.frame.DataFrame'>\n",
      "RangeIndex: 18175 entries, 0 to 18174\n",
      "Columns: 136 entries, Age to YouTubeTheNewBoston\n",
      "dtypes: float64(105), object(31)\n",
      "memory usage: 18.9+ MB\n"
     ]
    }
   ],
   "source": [
    "df.info()"
   ]
  },
  {
   "cell_type": "code",
   "execution_count": 4,
   "metadata": {},
   "outputs": [
    {
     "data": {
      "text/html": [
       "<div>\n",
       "<style scoped>\n",
       "    .dataframe tbody tr th:only-of-type {\n",
       "        vertical-align: middle;\n",
       "    }\n",
       "\n",
       "    .dataframe tbody tr th {\n",
       "        vertical-align: top;\n",
       "    }\n",
       "\n",
       "    .dataframe thead th {\n",
       "        text-align: right;\n",
       "    }\n",
       "</style>\n",
       "<table border=\"1\" class=\"dataframe\">\n",
       "  <thead>\n",
       "    <tr style=\"text-align: right;\">\n",
       "      <th></th>\n",
       "      <th>Age</th>\n",
       "      <th>AttendedBootcamp</th>\n",
       "      <th>BootcampFinish</th>\n",
       "      <th>BootcampLoanYesNo</th>\n",
       "      <th>BootcampName</th>\n",
       "      <th>BootcampRecommend</th>\n",
       "      <th>ChildrenNumber</th>\n",
       "      <th>CityPopulation</th>\n",
       "      <th>CodeEventConferences</th>\n",
       "      <th>CodeEventDjangoGirls</th>\n",
       "      <th>...</th>\n",
       "      <th>YouTubeFCC</th>\n",
       "      <th>YouTubeFunFunFunction</th>\n",
       "      <th>YouTubeGoogleDev</th>\n",
       "      <th>YouTubeLearnCode</th>\n",
       "      <th>YouTubeLevelUpTuts</th>\n",
       "      <th>YouTubeMIT</th>\n",
       "      <th>YouTubeMozillaHacks</th>\n",
       "      <th>YouTubeOther</th>\n",
       "      <th>YouTubeSimplilearn</th>\n",
       "      <th>YouTubeTheNewBoston</th>\n",
       "    </tr>\n",
       "  </thead>\n",
       "  <tbody>\n",
       "    <tr>\n",
       "      <th>0</th>\n",
       "      <td>27.0</td>\n",
       "      <td>0.0</td>\n",
       "      <td>NaN</td>\n",
       "      <td>NaN</td>\n",
       "      <td>NaN</td>\n",
       "      <td>NaN</td>\n",
       "      <td>NaN</td>\n",
       "      <td>more than 1 million</td>\n",
       "      <td>NaN</td>\n",
       "      <td>NaN</td>\n",
       "      <td>...</td>\n",
       "      <td>NaN</td>\n",
       "      <td>NaN</td>\n",
       "      <td>NaN</td>\n",
       "      <td>NaN</td>\n",
       "      <td>NaN</td>\n",
       "      <td>NaN</td>\n",
       "      <td>NaN</td>\n",
       "      <td>NaN</td>\n",
       "      <td>NaN</td>\n",
       "      <td>NaN</td>\n",
       "    </tr>\n",
       "    <tr>\n",
       "      <th>1</th>\n",
       "      <td>34.0</td>\n",
       "      <td>0.0</td>\n",
       "      <td>NaN</td>\n",
       "      <td>NaN</td>\n",
       "      <td>NaN</td>\n",
       "      <td>NaN</td>\n",
       "      <td>NaN</td>\n",
       "      <td>less than 100,000</td>\n",
       "      <td>NaN</td>\n",
       "      <td>NaN</td>\n",
       "      <td>...</td>\n",
       "      <td>1.0</td>\n",
       "      <td>NaN</td>\n",
       "      <td>NaN</td>\n",
       "      <td>NaN</td>\n",
       "      <td>NaN</td>\n",
       "      <td>NaN</td>\n",
       "      <td>NaN</td>\n",
       "      <td>NaN</td>\n",
       "      <td>NaN</td>\n",
       "      <td>NaN</td>\n",
       "    </tr>\n",
       "    <tr>\n",
       "      <th>2</th>\n",
       "      <td>21.0</td>\n",
       "      <td>0.0</td>\n",
       "      <td>NaN</td>\n",
       "      <td>NaN</td>\n",
       "      <td>NaN</td>\n",
       "      <td>NaN</td>\n",
       "      <td>NaN</td>\n",
       "      <td>more than 1 million</td>\n",
       "      <td>NaN</td>\n",
       "      <td>NaN</td>\n",
       "      <td>...</td>\n",
       "      <td>NaN</td>\n",
       "      <td>NaN</td>\n",
       "      <td>NaN</td>\n",
       "      <td>1.0</td>\n",
       "      <td>1.0</td>\n",
       "      <td>NaN</td>\n",
       "      <td>NaN</td>\n",
       "      <td>NaN</td>\n",
       "      <td>NaN</td>\n",
       "      <td>NaN</td>\n",
       "    </tr>\n",
       "    <tr>\n",
       "      <th>3</th>\n",
       "      <td>26.0</td>\n",
       "      <td>0.0</td>\n",
       "      <td>NaN</td>\n",
       "      <td>NaN</td>\n",
       "      <td>NaN</td>\n",
       "      <td>NaN</td>\n",
       "      <td>NaN</td>\n",
       "      <td>between 100,000 and 1 million</td>\n",
       "      <td>NaN</td>\n",
       "      <td>NaN</td>\n",
       "      <td>...</td>\n",
       "      <td>1.0</td>\n",
       "      <td>1.0</td>\n",
       "      <td>NaN</td>\n",
       "      <td>NaN</td>\n",
       "      <td>1.0</td>\n",
       "      <td>NaN</td>\n",
       "      <td>NaN</td>\n",
       "      <td>NaN</td>\n",
       "      <td>NaN</td>\n",
       "      <td>NaN</td>\n",
       "    </tr>\n",
       "    <tr>\n",
       "      <th>4</th>\n",
       "      <td>20.0</td>\n",
       "      <td>0.0</td>\n",
       "      <td>NaN</td>\n",
       "      <td>NaN</td>\n",
       "      <td>NaN</td>\n",
       "      <td>NaN</td>\n",
       "      <td>NaN</td>\n",
       "      <td>between 100,000 and 1 million</td>\n",
       "      <td>NaN</td>\n",
       "      <td>NaN</td>\n",
       "      <td>...</td>\n",
       "      <td>NaN</td>\n",
       "      <td>NaN</td>\n",
       "      <td>NaN</td>\n",
       "      <td>NaN</td>\n",
       "      <td>NaN</td>\n",
       "      <td>NaN</td>\n",
       "      <td>NaN</td>\n",
       "      <td>NaN</td>\n",
       "      <td>NaN</td>\n",
       "      <td>NaN</td>\n",
       "    </tr>\n",
       "  </tbody>\n",
       "</table>\n",
       "<p>5 rows × 136 columns</p>\n",
       "</div>"
      ],
      "text/plain": [
       "    Age  AttendedBootcamp  BootcampFinish  BootcampLoanYesNo BootcampName  \\\n",
       "0  27.0               0.0             NaN                NaN          NaN   \n",
       "1  34.0               0.0             NaN                NaN          NaN   \n",
       "2  21.0               0.0             NaN                NaN          NaN   \n",
       "3  26.0               0.0             NaN                NaN          NaN   \n",
       "4  20.0               0.0             NaN                NaN          NaN   \n",
       "\n",
       "   BootcampRecommend  ChildrenNumber                 CityPopulation  \\\n",
       "0                NaN             NaN            more than 1 million   \n",
       "1                NaN             NaN              less than 100,000   \n",
       "2                NaN             NaN            more than 1 million   \n",
       "3                NaN             NaN  between 100,000 and 1 million   \n",
       "4                NaN             NaN  between 100,000 and 1 million   \n",
       "\n",
       "   CodeEventConferences  CodeEventDjangoGirls         ...           \\\n",
       "0                   NaN                   NaN         ...            \n",
       "1                   NaN                   NaN         ...            \n",
       "2                   NaN                   NaN         ...            \n",
       "3                   NaN                   NaN         ...            \n",
       "4                   NaN                   NaN         ...            \n",
       "\n",
       "   YouTubeFCC  YouTubeFunFunFunction  YouTubeGoogleDev  YouTubeLearnCode  \\\n",
       "0         NaN                    NaN               NaN               NaN   \n",
       "1         1.0                    NaN               NaN               NaN   \n",
       "2         NaN                    NaN               NaN               1.0   \n",
       "3         1.0                    1.0               NaN               NaN   \n",
       "4         NaN                    NaN               NaN               NaN   \n",
       "\n",
       "   YouTubeLevelUpTuts  YouTubeMIT  YouTubeMozillaHacks YouTubeOther  \\\n",
       "0                 NaN         NaN                  NaN          NaN   \n",
       "1                 NaN         NaN                  NaN          NaN   \n",
       "2                 1.0         NaN                  NaN          NaN   \n",
       "3                 1.0         NaN                  NaN          NaN   \n",
       "4                 NaN         NaN                  NaN          NaN   \n",
       "\n",
       "   YouTubeSimplilearn  YouTubeTheNewBoston  \n",
       "0                 NaN                  NaN  \n",
       "1                 NaN                  NaN  \n",
       "2                 NaN                  NaN  \n",
       "3                 NaN                  NaN  \n",
       "4                 NaN                  NaN  \n",
       "\n",
       "[5 rows x 136 columns]"
      ]
     },
     "execution_count": 4,
     "metadata": {},
     "output_type": "execute_result"
    }
   ],
   "source": [
    "df.head()"
   ]
  },
  {
   "cell_type": "code",
   "execution_count": 5,
   "metadata": {},
   "outputs": [
    {
     "name": "stdout",
     "output_type": "stream",
     "text": [
      "Index(['Age', 'AttendedBootcamp', 'BootcampFinish', 'BootcampLoanYesNo',\n",
      "       'BootcampName', 'BootcampRecommend', 'ChildrenNumber', 'CityPopulation',\n",
      "       'CodeEventConferences', 'CodeEventDjangoGirls',\n",
      "       ...\n",
      "       'YouTubeFCC', 'YouTubeFunFunFunction', 'YouTubeGoogleDev',\n",
      "       'YouTubeLearnCode', 'YouTubeLevelUpTuts', 'YouTubeMIT',\n",
      "       'YouTubeMozillaHacks', 'YouTubeOther', 'YouTubeSimplilearn',\n",
      "       'YouTubeTheNewBoston'],\n",
      "      dtype='object', length=136)\n"
     ]
    }
   ],
   "source": [
    "print(df.columns)"
   ]
  },
  {
   "cell_type": "markdown",
   "metadata": {},
   "source": [
    "__JobRoleInterest__ column includes surveyors most interested job positions."
   ]
  },
  {
   "cell_type": "code",
   "execution_count": 6,
   "metadata": {},
   "outputs": [
    {
     "data": {
      "text/plain": [
       "Full-Stack Web Developer                                                                                                                                                    823\n",
       "  Front-End Web Developer                                                                                                                                                   450\n",
       "  Data Scientist                                                                                                                                                            152\n",
       "Back-End Web Developer                                                                                                                                                      142\n",
       "  Mobile Developer                                                                                                                                                          117\n",
       "Game Developer                                                                                                                                                              114\n",
       "Information Security                                                                                                                                                         92\n",
       "Full-Stack Web Developer,   Front-End Web Developer                                                                                                                          64\n",
       "  Front-End Web Developer, Full-Stack Web Developer                                                                                                                          56\n",
       "  Product Manager                                                                                                                                                            55\n",
       "Data Engineer                                                                                                                                                                53\n",
       "  User Experience Designer                                                                                                                                                   52\n",
       "  User Experience Designer,   Front-End Web Developer                                                                                                                        43\n",
       "  Front-End Web Developer, Back-End Web Developer, Full-Stack Web Developer                                                                                                  39\n",
       "Back-End Web Developer, Full-Stack Web Developer,   Front-End Web Developer                                                                                                  36\n",
       "  DevOps / SysAdmin                                                                                                                                                          36\n",
       "Back-End Web Developer,   Front-End Web Developer, Full-Stack Web Developer                                                                                                  36\n",
       "Full-Stack Web Developer,   Front-End Web Developer, Back-End Web Developer                                                                                                  31\n",
       "  Front-End Web Developer, Full-Stack Web Developer, Back-End Web Developer                                                                                                  30\n",
       "Full-Stack Web Developer,   Mobile Developer                                                                                                                                 29\n",
       "  Front-End Web Developer,   User Experience Designer                                                                                                                        29\n",
       "Back-End Web Developer, Full-Stack Web Developer                                                                                                                             27\n",
       "Full-Stack Web Developer, Back-End Web Developer                                                                                                                             26\n",
       "Back-End Web Developer,   Front-End Web Developer                                                                                                                            20\n",
       "Data Engineer,   Data Scientist                                                                                                                                              19\n",
       "Full-Stack Web Developer, Back-End Web Developer,   Front-End Web Developer                                                                                                  19\n",
       "  Front-End Web Developer,   Mobile Developer                                                                                                                                18\n",
       "Full-Stack Web Developer,   Data Scientist                                                                                                                                   17\n",
       "  Data Scientist, Data Engineer                                                                                                                                              16\n",
       "  Mobile Developer, Game Developer                                                                                                                                           16\n",
       "                                                                                                                                                                           ... \n",
       "  Product Manager, Full-Stack Web Developer,   Front-End Web Developer, Back-End Web Developer,   Data Scientist,   User Experience Designer,   Mobile Developer              1\n",
       "Full-Stack Web Developer,   Mobile Developer, Game Developer, Information Security                                                                                            1\n",
       "  Quality Assurance Engineer, Game Developer, Information Security                                                                                                            1\n",
       "  Mobile Developer, Back-End Web Developer, Information Security, Game Developer,   Front-End Web Developer,   User Experience Designer,   Product Manager                    1\n",
       "Full-Stack Web Developer,   Front-End Web Developer, Information Security,   Product Manager, Back-End Web Developer,   Mobile Developer,   User Experience Designer          1\n",
       "  Front-End Web Developer,   Mobile Developer, Full-Stack Web Developer,   Data Scientist                                                                                     1\n",
       "Data Engineer, Information Security,   Mobile Developer, Full-Stack Web Developer, Game Developer,   Data Scientist,   User Experience Designer                               1\n",
       "Back-End Web Developer, Full-Stack Web Developer,   User Experience Designer,   DevOps / SysAdmin                                                                             1\n",
       "Game Developer,   Data Scientist, Data Engineer                                                                                                                               1\n",
       "  Mobile Developer, Information Security,   Front-End Web Developer,   DevOps / SysAdmin                                                                                      1\n",
       "  Front-End Web Developer,   DevOps / SysAdmin,   Mobile Developer                                                                                                            1\n",
       "Back-End Web Developer, Game Developer, Full-Stack Web Developer,   Front-End Web Developer,   DevOps / SysAdmin                                                              1\n",
       "I'm just learning code to increase my skill-set. I see it as a literacy issue.                                                                                                1\n",
       "  Data Scientist,   Mobile Developer, Data Engineer, Back-End Web Developer, Full-Stack Web Developer                                                                         1\n",
       "Data Engineer,   DevOps / SysAdmin, Information Security,   Quality Assurance Engineer,   Data Scientist                                                                      1\n",
       "  DevOps / SysAdmin, Game Developer,   User Experience Designer, Data Engineer, Information Security,   Data Scientist, Full-Stack Web Developer, Back-End Web Developer      1\n",
       "Information Security, Back-End Web Developer, Data Engineer,   Mobile Developer,   Data Scientist,   DevOps / SysAdmin                                                        1\n",
       "Full-Stack Web Developer,   Data Scientist, Game Developer,   Quality Assurance Engineer,   Front-End Web Developer                                                           1\n",
       "Back-End Web Developer,   Front-End Web Developer, Game Developer, Information Security, Full-Stack Web Developer,   DevOps / SysAdmin                                        1\n",
       "  Data Scientist,   Mobile Developer, Game Developer,   Front-End Web Developer, Information Security, Full-Stack Web Developer, Back-End Web Developer                       1\n",
       "Full-Stack Web Developer,   Quality Assurance Engineer, Data Engineer, Back-End Web Developer,   Front-End Web Developer,   Mobile Developer                                  1\n",
       "Full-Stack Web Developer, Data Engineer, Back-End Web Developer,   Front-End Web Developer,   Mobile Developer                                                                1\n",
       "  User Experience Designer, Back-End Web Developer,   Mobile Developer,   Front-End Web Developer                                                                             1\n",
       "Full-Stack Web Developer,   Mobile Developer, Game Developer,   Product Manager                                                                                               1\n",
       "  Data Scientist, Back-End Web Developer, Information Security,   Mobile Developer                                                                                            1\n",
       "I don't know yet!                                                                                                                                                             1\n",
       "Back-End Web Developer,   Product Manager,   Front-End Web Developer, Full-Stack Web Developer                                                                                1\n",
       "Full-Stack Web Developer,   Front-End Web Developer, Information Security,   Mobile Developer, Back-End Web Developer,   User Experience Designer                             1\n",
       "Data Engineer,   Quality Assurance Engineer, Information Security,   Data Scientist                                                                                           1\n",
       "  Data Scientist,   Mobile Developer, Back-End Web Developer,   DevOps / SysAdmin, Data Engineer, Information Security, Full-Stack Web Developer                              1\n",
       "Name: JobRoleInterest, Length: 3213, dtype: int64"
      ]
     },
     "execution_count": 6,
     "metadata": {},
     "output_type": "execute_result"
    }
   ],
   "source": [
    "df.JobRoleInterest.value_counts()"
   ]
  },
  {
   "cell_type": "markdown",
   "metadata": {},
   "source": [
    "There are considerable amount of people who are interested in more than one topic. It's wise to gather up using the keywords \"Web\" and \"Mobile\"."
   ]
  },
  {
   "cell_type": "code",
   "execution_count": 7,
   "metadata": {},
   "outputs": [
    {
     "data": {
      "text/plain": [
       "<matplotlib.axes._subplots.AxesSubplot at 0x1fd63dfe668>"
      ]
     },
     "execution_count": 7,
     "metadata": {},
     "output_type": "execute_result"
    },
    {
     "data": {
      "image/png": "[encoded data removed]",
      "text/plain": [
       "<Figure size 432x288 with 1 Axes>"
      ]
     },
     "metadata": {
      "needs_background": "light"
     },
     "output_type": "display_data"
    }
   ],
   "source": [
    "total_surveyors = df.JobRoleInterest.notnull().sum()\n",
    "bar_ = df.JobRoleInterest.value_counts()[:12] /(df.JobRoleInterest.notnull().sum())*100\n",
    "bar_.plot.barh(title=\"Surveyor's Interested Positions in percent\")"
   ]
  },
  {
   "cell_type": "markdown",
   "metadata": {
    "collapsed": true
   },
   "source": [
    "A percentage that gives the ratio of surveyors who are interested in either \"web\" or \"mobile\" might make more sense"
   ]
  },
  {
   "cell_type": "code",
   "execution_count": 8,
   "metadata": {},
   "outputs": [],
   "source": [
    "def web_or_mobile(string):\n",
    "    if (\"web\" in str(string).lower()) or (\"mobile\" in str(string).lower()):\n",
    "        return True\n",
    "    else:\n",
    "        return False"
   ]
  },
  {
   "cell_type": "code",
   "execution_count": 9,
   "metadata": {},
   "outputs": [],
   "source": [
    "df[\"web_or_mobile\"] = df[\"JobRoleInterest\"].dropna().apply(web_or_mobile)"
   ]
  },
  {
   "cell_type": "code",
   "execution_count": 10,
   "metadata": {},
   "outputs": [
    {
     "data": {
      "text/plain": [
       "<matplotlib.axes._subplots.AxesSubplot at 0x1fd63eedac8>"
      ]
     },
     "execution_count": 10,
     "metadata": {},
     "output_type": "execute_result"
    },
    {
     "data": {
      "image/png": "[encoded data removed]",
      "text/plain": [
       "<Figure size 432x288 with 1 Axes>"
      ]
     },
     "metadata": {
      "needs_background": "light"
     },
     "output_type": "display_data"
    }
   ],
   "source": [
    "bar_ = df[\"web_or_mobile\"].value_counts()/len(df[\"web_or_mobile\"].dropna())*100\n",
    "bar_.plot.bar(title = \"Percentage of web_or_mobile role seekers\")"
   ]
  },
  {
   "cell_type": "markdown",
   "metadata": {},
   "source": [
    "It seems that more than 85 percent of new coders seek for an either web or mobile related job."
   ]
  },
  {
   "cell_type": "code",
   "execution_count": 11,
   "metadata": {},
   "outputs": [],
   "source": [
    "df_interest = df[df[\"web_or_mobile\"].notnull()]"
   ]
  },
  {
   "cell_type": "markdown",
   "metadata": {},
   "source": [
    "We created a new dataframe that includes only those who are interested in web or mobile position."
   ]
  },
  {
   "cell_type": "code",
   "execution_count": 12,
   "metadata": {},
   "outputs": [
    {
     "name": "stdout",
     "output_type": "stream",
     "text": [
      "<class 'pandas.core.frame.DataFrame'>\n",
      "Int64Index: 6992 entries, 1 to 18174\n",
      "Columns: 137 entries, Age to web_or_mobile\n",
      "dtypes: float64(105), object(32)\n",
      "memory usage: 7.4+ MB\n"
     ]
    }
   ],
   "source": [
    "df_interest.info()"
   ]
  },
  {
   "cell_type": "code",
   "execution_count": 13,
   "metadata": {},
   "outputs": [
    {
     "data": {
      "text/plain": [
       "United States of America         3125\n",
       "India                             528\n",
       "United Kingdom                    315\n",
       "Canada                            260\n",
       "Poland                            131\n",
       "Brazil                            129\n",
       "Germany                           125\n",
       "Australia                         112\n",
       "Russia                            102\n",
       "Ukraine                            89\n",
       "Nigeria                            84\n",
       "Spain                              77\n",
       "France                             75\n",
       "Romania                            71\n",
       "Netherlands (Holland, Europe)      65\n",
       "Italy                              62\n",
       "Philippines                        52\n",
       "Serbia                             52\n",
       "Greece                             46\n",
       "Ireland                            43\n",
       "South Africa                       39\n",
       "Mexico                             37\n",
       "Turkey                             36\n",
       "Singapore                          34\n",
       "Hungary                            34\n",
       "New Zealand                        33\n",
       "Argentina                          32\n",
       "Croatia                            32\n",
       "Norway                             31\n",
       "Indonesia                          31\n",
       "                                 ... \n",
       "Somalia                             1\n",
       "Sudan                               1\n",
       "Bolivia                             1\n",
       "Liberia                             1\n",
       "Gambia                              1\n",
       "Nicaragua                           1\n",
       "Trinidad & Tobago                   1\n",
       "Guadeloupe                          1\n",
       "Jordan                              1\n",
       "Cayman Islands                      1\n",
       "Qatar                               1\n",
       "Turkmenistan                        1\n",
       "Angola                              1\n",
       "Guatemala                           1\n",
       "Cameroon                            1\n",
       "Myanmar                             1\n",
       "Nambia                              1\n",
       "Cuba                                1\n",
       "Botswana                            1\n",
       "Aruba                               1\n",
       "Papua New Guinea                    1\n",
       "Yemen                               1\n",
       "Panama                              1\n",
       "Mozambique                          1\n",
       "Anguilla                            1\n",
       "Rwanda                              1\n",
       "Samoa                               1\n",
       "Kyrgyzstan                          1\n",
       "Gibraltar                           1\n",
       "Vanuatu                             1\n",
       "Name: CountryLive, Length: 137, dtype: int64"
      ]
     },
     "execution_count": 13,
     "metadata": {},
     "output_type": "execute_result"
    }
   ],
   "source": [
    "# Among those who are interested in mobile or web, country breakdown\n",
    "df_interest[\"CountryLive\"].value_counts()"
   ]
  },
  {
   "cell_type": "markdown",
   "metadata": {
    "collapsed": true
   },
   "source": [
    "According to the list above USA, India, UK and Canada are the four countries with the most willing-to-learn new coders. However, we should have a glance on their willing-to-pay as well. "
   ]
  },
  {
   "cell_type": "code",
   "execution_count": 14,
   "metadata": {},
   "outputs": [
    {
     "name": "stderr",
     "output_type": "stream",
     "text": [
      "C:\\Users\\Nil\\Anaconda3\\lib\\site-packages\\ipykernel_launcher.py:6: UserWarning: Boolean Series key will be reindexed to match DataFrame index.\n",
      "  \n"
     ]
    },
    {
     "data": {
      "text/plain": [
       "array(['United States of America', 'United Kingdom', 'India', 'Canada'],\n",
       "      dtype=object)"
      ]
     },
     "execution_count": 14,
     "metadata": {},
     "output_type": "execute_result"
    }
   ],
   "source": [
    "cond1 = df.CountryLive == \"United States of America\"\n",
    "cond2 = df.CountryLive == \"India\"\n",
    "cond3 = df.CountryLive == \"United Kingdom\"\n",
    "cond4 = df.CountryLive == \"Canada\"\n",
    "\n",
    "df_interest = df_interest[cond1 | cond2 | cond3 | cond4]\n",
    "df_interest.CountryLive.unique()\n"
   ]
  },
  {
   "cell_type": "markdown",
   "metadata": {},
   "source": [
    "### Data cleaning"
   ]
  },
  {
   "cell_type": "code",
   "execution_count": 15,
   "metadata": {},
   "outputs": [
    {
     "data": {
      "text/plain": [
       "179"
      ]
     },
     "execution_count": 15,
     "metadata": {},
     "output_type": "execute_result"
    }
   ],
   "source": [
    "df_interest.MonthsProgramming.isnull().sum()"
   ]
  },
  {
   "cell_type": "code",
   "execution_count": 16,
   "metadata": {},
   "outputs": [
    {
     "data": {
      "text/plain": [
       "count    4049.000000\n",
       "mean       13.880464\n",
       "std        31.560783\n",
       "min         0.000000\n",
       "25%         2.000000\n",
       "50%         6.000000\n",
       "75%        15.000000\n",
       "max       744.000000\n",
       "Name: MonthsProgramming, dtype: float64"
      ]
     },
     "execution_count": 16,
     "metadata": {},
     "output_type": "execute_result"
    }
   ],
   "source": [
    "df_interest[\"MonthsProgramming\"].describe()"
   ]
  },
  {
   "cell_type": "code",
   "execution_count": 17,
   "metadata": {},
   "outputs": [],
   "source": [
    "df_interest=df_interest[df_interest[\"MonthsProgramming\"].notnull()]"
   ]
  },
  {
   "cell_type": "code",
   "execution_count": 18,
   "metadata": {},
   "outputs": [
    {
     "data": {
      "text/plain": [
       "0"
      ]
     },
     "execution_count": 18,
     "metadata": {},
     "output_type": "execute_result"
    }
   ],
   "source": [
    "df_interest.MonthsProgramming.isnull().sum()"
   ]
  },
  {
   "cell_type": "code",
   "execution_count": 19,
   "metadata": {},
   "outputs": [
    {
     "data": {
      "text/plain": [
       "134"
      ]
     },
     "execution_count": 19,
     "metadata": {},
     "output_type": "execute_result"
    }
   ],
   "source": [
    "df_interest.MoneyForLearning.isnull().sum()"
   ]
  },
  {
   "cell_type": "code",
   "execution_count": 20,
   "metadata": {},
   "outputs": [],
   "source": [
    "df_interest=df_interest[df_interest[\"MoneyForLearning\"].notnull()]"
   ]
  },
  {
   "cell_type": "code",
   "execution_count": 21,
   "metadata": {},
   "outputs": [
    {
     "data": {
      "text/plain": [
       "0"
      ]
     },
     "execution_count": 21,
     "metadata": {},
     "output_type": "execute_result"
    }
   ],
   "source": [
    "df_interest.MoneyForLearning.isnull().sum()"
   ]
  },
  {
   "cell_type": "code",
   "execution_count": 22,
   "metadata": {},
   "outputs": [],
   "source": [
    "def clean_0(num):\n",
    "    if num == 0:\n",
    "        return 1\n",
    "    else:\n",
    "        return num\n",
    "    \n",
    "df_interest[\"MonthsProgramming\"] =df_interest[\"MonthsProgramming\"].apply(clean_0)"
   ]
  },
  {
   "cell_type": "code",
   "execution_count": 23,
   "metadata": {},
   "outputs": [
    {
     "data": {
      "text/plain": [
       "count    3915.000000\n",
       "mean       13.757854\n",
       "std        30.842051\n",
       "min         1.000000\n",
       "25%         2.000000\n",
       "50%         6.000000\n",
       "75%        15.000000\n",
       "max       744.000000\n",
       "Name: MonthsProgramming, dtype: float64"
      ]
     },
     "execution_count": 23,
     "metadata": {},
     "output_type": "execute_result"
    }
   ],
   "source": [
    "df_interest[\"MonthsProgramming\"].describe()"
   ]
  },
  {
   "cell_type": "code",
   "execution_count": 24,
   "metadata": {},
   "outputs": [
    {
     "data": {
      "text/plain": [
       "count      3915.000000\n",
       "mean       1113.450064\n",
       "std        5802.376390\n",
       "min           0.000000\n",
       "25%           0.000000\n",
       "50%          20.000000\n",
       "75%         250.000000\n",
       "max      200000.000000\n",
       "Name: MoneyForLearning, dtype: float64"
      ]
     },
     "execution_count": 24,
     "metadata": {},
     "output_type": "execute_result"
    }
   ],
   "source": [
    "df_interest[\"MoneyForLearning\"].describe()"
   ]
  },
  {
   "cell_type": "markdown",
   "metadata": {},
   "source": [
    "Examine the willingness of paying money to learn new stuff"
   ]
  },
  {
   "cell_type": "code",
   "execution_count": 25,
   "metadata": {},
   "outputs": [],
   "source": [
    "df_interest[\"paid_monthly\"]=df_interest[\"MoneyForLearning\"]/df_interest[\"MonthsProgramming\"]"
   ]
  },
  {
   "cell_type": "code",
   "execution_count": 27,
   "metadata": {},
   "outputs": [
    {
     "data": {
      "text/plain": [
       "CountryLive\n",
       "Canada                      113.510961\n",
       "India                       135.100982\n",
       "United Kingdom               45.534443\n",
       "United States of America    227.997996\n",
       "Name: paid_monthly, dtype: float64"
      ]
     },
     "execution_count": 27,
     "metadata": {},
     "output_type": "execute_result"
    }
   ],
   "source": [
    "df_interest.groupby(\"CountryLive\").mean()[\"paid_monthly\"]"
   ]
  },
  {
   "cell_type": "code",
   "execution_count": 28,
   "metadata": {},
   "outputs": [
    {
     "data": {
      "text/plain": [
       "<matplotlib.axes._subplots.AxesSubplot at 0x1fd63de9390>"
      ]
     },
     "execution_count": 28,
     "metadata": {},
     "output_type": "execute_result"
    },
    {
     "data": {
      "image/png": "[encoded data removed]",
      "text/plain": [
       "<Figure size 432x288 with 1 Axes>"
      ]
     },
     "metadata": {
      "needs_background": "light"
     },
     "output_type": "display_data"
    }
   ],
   "source": [
    "sns.boxplot(x=\"CountryLive\", y=\"paid_monthly\", data=df_interest, whis=5)"
   ]
  },
  {
   "cell_type": "code",
   "execution_count": 29,
   "metadata": {},
   "outputs": [],
   "source": [
    "df_interest = df_interest[df_interest[\"paid_monthly\"]<3000]"
   ]
  },
  {
   "cell_type": "markdown",
   "metadata": {},
   "source": [
    "Deciding that more than \\$3000 per month does not make sense:"
   ]
  },
  {
   "cell_type": "code",
   "execution_count": 30,
   "metadata": {},
   "outputs": [
    {
     "data": {
      "text/plain": [
       "<matplotlib.axes._subplots.AxesSubplot at 0x1fd63ff1da0>"
      ]
     },
     "execution_count": 30,
     "metadata": {},
     "output_type": "execute_result"
    },
    {
     "data": {
      "image/png": "[encoded data removed]",
      "text/plain": [
       "<Figure size 432x288 with 1 Axes>"
      ]
     },
     "metadata": {
      "needs_background": "light"
     },
     "output_type": "display_data"
    }
   ],
   "source": [
    "sns.boxplot(x=\"CountryLive\", y=\"paid_monthly\", data=df_interest, whis=5)"
   ]
  },
  {
   "cell_type": "code",
   "execution_count": 32,
   "metadata": {
    "scrolled": true
   },
   "outputs": [
    {
     "data": {
      "text/plain": [
       "CountryLive\n",
       "Canada                       93.065400\n",
       "India                        65.758763\n",
       "United Kingdom               45.534443\n",
       "United States of America    106.521992\n",
       "Name: paid_monthly, dtype: float64"
      ]
     },
     "execution_count": 32,
     "metadata": {},
     "output_type": "execute_result"
    }
   ],
   "source": [
    "df_interest.groupby(\"CountryLive\").mean()[\"paid_monthly\"]"
   ]
  },
  {
   "cell_type": "markdown",
   "metadata": {},
   "source": [
    "Due to the table above, I recommend to create a content on web and mobile software developing in Canada and United States. Taking into account the high level of population, India can olsa be get into the picture. However, UK is the least attractive market."
   ]
  }
 ],
 "metadata": {
  "kernelspec": {
   "display_name": "Python 3",
   "language": "python",
   "name": "python3"
  },
  "language_info": {
   "codemirror_mode": {
    "name": "ipython",
    "version": 3
   },
   "file_extension": ".py",
   "mimetype": "text/x-python",
   "name": "python",
   "nbconvert_exporter": "python",
   "pygments_lexer": "ipython3",
   "version": "3.7.1"
  }
 },
 "nbformat": 4,
 "nbformat_minor": 2
}
